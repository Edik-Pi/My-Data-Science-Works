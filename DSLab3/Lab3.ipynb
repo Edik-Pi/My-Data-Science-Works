{
 "cells": [
  {
   "cell_type": "code",
   "execution_count": 3,
   "metadata": {},
   "outputs": [],
   "source": [
    "import numpy as np\n",
    "from numpy import linalg\n",
    "import pandas as pd\n",
    "import requests\n",
    "from io import BytesIO\n",
    "from zipfile import ZipFile"
   ]
  },
  {
   "cell_type": "code",
   "execution_count": 8,
   "metadata": {},
   "outputs": [
    {
     "name": "stdout",
     "output_type": "stream",
     "text": [
      "Task 1. Numpy arrays:\n",
      "[9 8 7 6 5 4 3 2 1 0]\n"
     ]
    }
   ],
   "source": [
    " \"\"\"\n",
    "  Задание 1\n",
    "    \"\"\"\n",
    "def create_numpy_arr1(n):\n",
    "    \"\"\"\n",
    "    Create numpy arr with range\n",
    "    \"\"\"\n",
    "    return np.array([i for i in range(n)][::-1])\n",
    "\n",
    "def create_numpy_arr2(n):\n",
    "    return np.arange(n - 1, -1, -1)\n",
    "\n",
    "print('Task 1. Numpy arrays:')\n",
    "print(create_numpy_arr1(10))\n"
   ]
  },
  {
   "cell_type": "code",
   "execution_count": 10,
   "metadata": {},
   "outputs": [
    {
     "name": "stdout",
     "output_type": "stream",
     "text": [
      "Task 2. Diag matrix:\n",
      "[[9 0 0 0 0 0 0 0 0 0]\n",
      " [0 8 0 0 0 0 0 0 0 0]\n",
      " [0 0 7 0 0 0 0 0 0 0]\n",
      " [0 0 0 6 0 0 0 0 0 0]\n",
      " [0 0 0 0 5 0 0 0 0 0]\n",
      " [0 0 0 0 0 4 0 0 0 0]\n",
      " [0 0 0 0 0 0 3 0 0 0]\n",
      " [0 0 0 0 0 0 0 2 0 0]\n",
      " [0 0 0 0 0 0 0 0 1 0]\n",
      " [0 0 0 0 0 0 0 0 0 0]]\n",
      "Sum of diag elems: 45\n"
     ]
    }
   ],
   "source": [
    " \"\"\"\n",
    "  Задание 2\n",
    "    \"\"\"\n",
    "def create_diag_matrix(n):\n",
    "    return np.diag(np.arange(n - 1, -1, -1))\n",
    "\n",
    "print('Task 2. Diag matrix:')\n",
    "dm = create_diag_matrix(10)\n",
    "print(dm)\n",
    "print(f'Sum of diag elems: {sum(dm.diagonal())}')\n"
   ]
  },
  {
   "cell_type": "code",
   "execution_count": 15,
   "metadata": {},
   "outputs": [
    {
     "name": "stdout",
     "output_type": "stream",
     "text": [
      "Task 5. Solution is: x = 0.4666666666666668, y = 3.844444444444444, z = -5.555555555555555\n"
     ]
    }
   ],
   "source": [
    " \"\"\"\n",
    "  Задание 3\n",
    "    \"\"\"\n",
    "left_side = np.array([\n",
    "    [4, 2, 1],\n",
    "    [1, 3, 0],\n",
    "    [0, 5, 4]\n",
    "])\n",
    "\n",
    "right_side = np.array([4, 12, -3])\n",
    "solution = linalg.solve(left_side, right_side)\n",
    "x, y, z = solution\n",
    "\n",
    "\n",
    "# check solution\n",
    "if not np.allclose(np.dot(left_side, solution), right_side):\n",
    "    raise RuntimeError('Incorrect solution!')\n",
    "\n",
    "print(f'Task 5. Solution is: x = {x}, y = {y}, z = {z}')\n"
   ]
  },
  {
   "cell_type": "code",
   "execution_count": 18,
   "metadata": {},
   "outputs": [
    {
     "name": "stdout",
     "output_type": "stream",
     "text": [
      "Task 3. Top movie: Shawshank Redemption, The (1994)\n"
     ]
    }
   ],
   "source": [
    "\"\"\"\n",
    "  Задание 5\n",
    "    \"\"\"\n",
    "\n",
    "def get_movies_data_frame(zip_arch):\n",
    "    \"\"\"\n",
    "    :return: pandas data frame with movies\n",
    "    \"\"\"\n",
    "    return pd.read_csv(zip_arch.open(name='ml-latest-small/movies.csv'))\n",
    "\n",
    "movies_zip = get_zip_files()\n",
    "ratings = get_ratings_data_frame(movies_zip)\n",
    "movies_info = get_movies_data_frame(movies_zip).set_index(keys='movieId', drop=False)\n",
    "\n",
    "\n",
    "top_films = ratings.query('rating == {}'.format(5))\n",
    "\n",
    "best_film_id = top_films['movieId'].value_counts().idxmax()\n",
    "\n",
    "print(f'Task 3. Top movie: {movies_info.loc[best_film_id, \"title\"]}')\n"
   ]
  },
  {
   "cell_type": "code",
   "execution_count": 21,
   "metadata": {},
   "outputs": [
    {
     "name": "stdout",
     "output_type": "stream",
     "text": [
      "Task 4. Total power consumption: 164555.0\n"
     ]
    }
   ],
   "source": [
    " \"\"\"\n",
    "  Задание 6\n",
    "    \"\"\"\n",
    "power_data = pd.read_csv('power.csv')\n",
    "sub_data = power_data.query('country in (\"Latvia\", \"Lithuania\", \"Estonia\") '\n",
    "                            '& category in (4, 12, 21) & 2005 < year < 2010 & quantity >= 0')\n",
    "\n",
    "\n",
    "print(f\"Task 4. Total power consumption: {sub_data['quantity'].sum()}\")\n"
   ]
  },
  {
   "cell_type": "code",
   "execution_count": null,
   "metadata": {},
   "outputs": [],
   "source": []
  }
 ],
 "metadata": {
  "kernelspec": {
   "display_name": "Python 3",
   "language": "python",
   "name": "python3"
  },
  "language_info": {
   "codemirror_mode": {
    "name": "ipython",
    "version": 3
   },
   "file_extension": ".py",
   "mimetype": "text/x-python",
   "name": "python",
   "nbconvert_exporter": "python",
   "pygments_lexer": "ipython3",
   "version": "3.8.5"
  }
 },
 "nbformat": 4,
 "nbformat_minor": 4
}
